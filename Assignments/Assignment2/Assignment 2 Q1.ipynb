{
 "cells": [
  {
   "cell_type": "markdown",
   "metadata": {},
   "source": [
    "## Q.1.\n",
    "\n",
    "Implement Watts and Strogatz’s small-world network model. Compute and plot the ‘scaled clustering coefficient’ and ‘scaled characteristic path length’ of Watts and Strogatz network models with increasing value of rewiring probability. Choose the values of 𝑛, 𝑘 suitably. Exact replication of the below-shown plot is expected."
   ]
  },
  {
   "cell_type": "markdown",
   "metadata": {},
   "source": [
    "### Libraries Import"
   ]
  },
  {
   "cell_type": "code",
   "execution_count": 1,
   "metadata": {},
   "outputs": [],
   "source": [
    "import random\n",
    "import numpy as np\n",
    "import networkx as nx\n",
    "import matplotlib.pyplot as plt"
   ]
  },
  {
   "cell_type": "code",
   "execution_count": 2,
   "metadata": {},
   "outputs": [],
   "source": [
    "# Set the initial values\n",
    "n = 1000    # n is the number of nodes in the graph\n",
    "k = 10      # k is the degree of each node in the regular graph"
   ]
  },
  {
   "cell_type": "code",
   "execution_count": 3,
   "metadata": {},
   "outputs": [],
   "source": [
    "\"\"\"\n",
    "Function         : drawKRegular\n",
    "Input Parameters : Number of nodes, n and value of the parameter, k(defined for k-Regular Graph)\n",
    "Purpose          : To create a k-Regular Graph\n",
    "Returns          : A k-Regular Graph\n",
    "\"\"\"\n",
    "\n",
    "def drawKRegular(n, k):\n",
    "    node_list = [item for item in range(0, n)]             # Defines the nodes\n",
    "    G = nx.Graph()                                         # Makes the graph with no nodes and edges\n",
    "    G.add_nodes_from(node_list)                            # adds the nodes from the node_list defined above into the graph\n",
    "    \n",
    "    for i in range(n):                                     # for each node\n",
    "        for j in range(1,int(k/2)+1):                      # for connecting each node to the j nearest neighbours(the edge is undirected, therefore k/2)\n",
    "            G.add_edge(i, (i+j)%n)                         # adds the edge into the graph\n",
    "    return G                                               # returns the k-Regular Graph"
   ]
  },
  {
   "cell_type": "code",
   "execution_count": 4,
   "metadata": {},
   "outputs": [
    {
     "name": "stdout",
     "output_type": "stream",
     "text": [
      "Characteristic Path length: 50.450450450450454\n",
      "Clustering Coefficient: 0.6666666666666636\n"
     ]
    }
   ],
   "source": [
    "G = drawKRegular(n, k)                                     # Calls the drawKRegular function and returns the graph\n",
    "L0 = nx.average_shortest_path_length(G)                    # L0 stores the characteristic path length of the k-Regular Graph\n",
    "C0 = nx.average_clustering(G)                              # C0 stores the average clustering coefficient of the k-Regular graph\n",
    "print(\"Characteristic Path length:\", L0)\n",
    "print(\"Clustering Coefficient:\", C0)"
   ]
  },
  {
   "cell_type": "code",
   "execution_count": 5,
   "metadata": {},
   "outputs": [],
   "source": [
    "\"\"\"\n",
    "Function         : runSmallWorld\n",
    "Input Parameters : Probability value(p), k-Regular Graph(G) and value of the parameter(k) (defined for k-Regular Graph)\n",
    "Purpose          : This function creates the graphs i.e adds the randomness into the graph through the process of rewiring \n",
    "                   on the basis of probability from being a k-Regular Graph(at p = 0) to completely random graph(at p = 1)\n",
    "                   and storing characteristic path length and clustering coefficient\n",
    "Returns          : Characteristic Path length and Clustering coefficient\n",
    "\"\"\"\n",
    "\n",
    "def runSmallWorld(p, G, k):\n",
    "    for j in range(1,int(k/2)+1):                           # For each edge (since it is undirected therefore k/2)\n",
    "        node_list = list(G.nodes())                         # Fetch the list of nodes in the graph\n",
    "        for node in node_list:                              # For each node present in the graph\n",
    "            num = random.uniform(0, 1)                      # Generate a random number between 0 and 1\n",
    "            random_vertex = random.randint(0,n-1)\n",
    "            if num <= p:\n",
    "                if random_vertex != node and not G.has_edge(random_vertex, node):     # To prevent multi edges\n",
    "                    G.add_edge(random_vertex, node)         # Rewire the nearest edge defined by j to the current node\n",
    "                    G.remove_edge(node, (node+j)%n)         # Remove the edge present\n",
    "    char_path_length = nx.average_shortest_path_length(G)   # Calculate the characteristic path length\n",
    "    clustering_coefficient = nx.average_clustering(G)       # Calculate the average clustering coefficient\n",
    "    return char_path_length, clustering_coefficient         # Returns the characteristic path length and clustering coefficient"
   ]
  },
  {
   "cell_type": "code",
   "execution_count": 6,
   "metadata": {},
   "outputs": [],
   "source": [
    "\"\"\"\n",
    "Function         : generateProbList\n",
    "Input Parameters : None\n",
    "Purpose          : To create a list of probability values\n",
    "Returns          : A list containing all the probability values the small world network is to be experimented upon\n",
    "\"\"\"\n",
    "def generateProbList():\n",
    "    prob_list = []                                          # Define an empty probability list\n",
    "    i = 4                                                   # Initialise the counter\n",
    "    while i >= 1:                                           # Run the loop for 4 times\n",
    "        prob_list.extend([item/(pow(10, i)) for item in range(1, 10, 1)])    # Add the values into the probability list\n",
    "        i -= 1                                              # Decrement the value of the counter\n",
    "    prob_list.append(1.0)                                   # Add the last value into the list\n",
    "    return prob_list                                        # Returns the probability list"
   ]
  },
  {
   "cell_type": "code",
   "execution_count": 7,
   "metadata": {
    "scrolled": true
   },
   "outputs": [
    {
     "name": "stdout",
     "output_type": "stream",
     "text": [
      "prob_list: [0.0001, 0.0002, 0.0003, 0.0004, 0.0005, 0.0006, 0.0007, 0.0008, 0.0009, 0.001, 0.002, 0.003, 0.004, 0.005, 0.006, 0.007, 0.008, 0.009, 0.01, 0.02, 0.03, 0.04, 0.05, 0.06, 0.07, 0.08, 0.09, 0.1, 0.2, 0.3, 0.4, 0.5, 0.6, 0.7, 0.8, 0.9, 1.0]\n",
      "\n",
      "prob: 0.0001\n",
      "\n",
      "prob: 0.0002\n",
      "\n",
      "prob: 0.0003\n",
      "\n",
      "prob: 0.0004\n",
      "\n",
      "prob: 0.0005\n",
      "\n",
      "prob: 0.0006\n",
      "\n",
      "prob: 0.0007\n",
      "\n",
      "prob: 0.0008\n",
      "\n",
      "prob: 0.0009\n",
      "\n",
      "prob: 0.001\n",
      "\n",
      "prob: 0.002\n",
      "\n",
      "prob: 0.003\n",
      "\n",
      "prob: 0.004\n",
      "\n",
      "prob: 0.005\n",
      "\n",
      "prob: 0.006\n",
      "\n",
      "prob: 0.007\n",
      "\n",
      "prob: 0.008\n",
      "\n",
      "prob: 0.009\n",
      "\n",
      "prob: 0.01\n",
      "\n",
      "prob: 0.02\n",
      "\n",
      "prob: 0.03\n",
      "\n",
      "prob: 0.04\n",
      "\n",
      "prob: 0.05\n",
      "\n",
      "prob: 0.06\n",
      "\n",
      "prob: 0.07\n",
      "\n",
      "prob: 0.08\n",
      "\n",
      "prob: 0.09\n",
      "\n",
      "prob: 0.1\n",
      "\n",
      "prob: 0.2\n",
      "\n",
      "prob: 0.3\n",
      "\n",
      "prob: 0.4\n",
      "\n",
      "prob: 0.5\n",
      "\n",
      "prob: 0.6\n",
      "\n",
      "prob: 0.7\n",
      "\n",
      "prob: 0.8\n",
      "\n",
      "prob: 0.9\n",
      "\n",
      "prob: 1.0\n",
      "\n",
      "Final Characteristic Path length: [0.9305347039682537, 0.8805178674603176, 0.8105782698412698, 0.7592996126984127, 0.7333103452380952, 0.6882033111111111, 0.6272326825396826, 0.6347829753968253, 0.5632785365079365, 0.5448920603174603, 0.413661119047619, 0.3177784666666666, 0.27082538333333334, 0.2369802325396826, 0.2234486428571428, 0.2098205412698413, 0.19957643888888885, 0.18558690158730157, 0.1769644484126984, 0.1378173753968254, 0.12044724047619049, 0.11068726904761904, 0.10427156666666666, 0.09954065000000001, 0.09572622301587301, 0.09270640634920634, 0.09014444523809524, 0.08823729999999999, 0.07675857539682539, 0.07164857857142858, 0.06886557142857141, 0.06710775952380953, 0.06597228253968254, 0.0652670126984127, 0.06492704523809523, 0.06480352619047618, 0.06478223650793652]\n",
      "Final Clustering Coefficient: [0.9997055606060604, 0.9995067077922077, 0.9991404545454544, 0.9988087878787878, 0.9986409090909091, 0.9984366818181816, 0.9977996515151514, 0.998024831168831, 0.9971515606060605, 0.9968974242424239, 0.9947245497835494, 0.9914755108225105, 0.9882366336996331, 0.9849353549783542, 0.9828081645021638, 0.9803957748917743, 0.9783599843489835, 0.9738771601731594, 0.9714635254745244, 0.9445068664668667, 0.9172680144855159, 0.8899380705960729, 0.8639565266400298, 0.8387195397935439, 0.8127734433899473, 0.7885628020313059, 0.7615240645188185, 0.7406558981019019, 0.5252753833127682, 0.3574612089087402, 0.2322977584113528, 0.140296136776022, 0.07842321668991566, 0.040475245569704096, 0.021831668037329156, 0.015202065401574769, 0.013732367162507317]\n"
     ]
    }
   ],
   "source": [
    "prob_list = generateProbList()                               # Generates Probability List on which the parameters will be computed\n",
    "print(\"prob_list:\", prob_list)\n",
    "num_iter = 50                                                # Specify Number of iterations for each Value of Probability\n",
    "final_char_path_length_list = []                             # Initialize Characteristic Path length List\n",
    "final_clust_coeff_list = []                                  # Initialize Clustering Coefficient List\n",
    "\n",
    "for p in prob_list:                                          # For each Probability Value\n",
    "    print(\"\\nprob:\", p)\n",
    "    char_path_length_list = []                               # Initialize internal Characteristic Path length list\n",
    "    clust_coeff_list = []                                    # Initialize internal Clustering Coefficient list\n",
    "    \n",
    "    for i in range(num_iter):                                # Draw the small world graph for the number of iterations specified\n",
    "        G = drawKRegular(n, k)                               # Draws the K regular graph each time \n",
    "        \n",
    "        char_path_length, clustering_coefficient = runSmallWorld(p, G, k)  # Calls the function to rewire the network\n",
    "                                                                           # and returns the characteristic path length \n",
    "                                                                           # and clustering coefficient of that graph\n",
    "\n",
    "        char_path_length_list.append(char_path_length)                     # Appends the Characteristic Path length \n",
    "                                                                           # to internal Characteristic Path length list\n",
    "        clust_coeff_list.append(clustering_coefficient)                    # Appends the Clustering Coefficient \n",
    "                                                                           # to internal Clustering Coefficient list\n",
    "            \n",
    "    final_char_path_length_list.append(np.mean(char_path_length_list)/L0)  # Find the mean of the values and normalize by \n",
    "                                                                           # char path length of K Regular graph and append to final values \n",
    "    final_clust_coeff_list.append(np.mean(clust_coeff_list)/C0)            # Find the mean of the values and normalize by \n",
    "                                                                           # clustering coefficient of K Regular graph and append to final values \n",
    "print(\"\\nFinal Characteristic Path length:\", final_char_path_length_list)\n",
    "print(\"Final Clustering Coefficient:\", final_clust_coeff_list)"
   ]
  },
  {
   "cell_type": "code",
   "execution_count": 12,
   "metadata": {},
   "outputs": [
    {
     "data": {
      "image/png": "[encoded data removed]",
      "text/plain": [
       "<Figure size 432x288 with 1 Axes>"
      ]
     },
     "metadata": {
      "needs_background": "light"
     },
     "output_type": "display_data"
    }
   ],
   "source": [
    "# Plots the semi-log graph of Scaled characteristic path length and Scaled clustering coefficient\n",
    "\n",
    "plt.semilogx(prob_list, final_char_path_length_list, marker='o', label='Scaled Characteristic Path Length') # Semi Log plot of characteristic path length\n",
    "plt.semilogx(prob_list, final_clust_coeff_list, marker = 's', label='Scaled Clustering Coefficient')        # Semi log plot of clustering coefficient\n",
    "plt.title(\"Scaled CC and Scaled Char Path length w.r.t. probability\")\n",
    "plt.xlabel(\"Probability(p)\")                        # X-axis is labelled as probability\n",
    "plt.ylabel(\"Fraction\")                              # Y-axis is labelled as the Fraction\n",
    "plt.legend()                                        # Shows the legend of the plot\n",
    "plt.show()                                          # Shows the plot"
   ]
  },
  {
   "cell_type": "code",
   "execution_count": 13,
   "metadata": {},
   "outputs": [
    {
     "data": {
      "image/png": "[encoded data removed]",
      "text/plain": [
       "<Figure size 1080x1080 with 1 Axes>"
      ]
     },
     "metadata": {
      "needs_background": "light"
     },
     "output_type": "display_data"
    }
   ],
   "source": [
    "# Plots the semi-log graph of Scaled characteristic path length and Scaled clustering coefficient\n",
    "# in a better manner with an enlarged figure size and without the line connecting the dots\n",
    "\n",
    "fig = plt.figure(figsize = (15,15))                 # Sets the fig size of the plot\n",
    "plt.rc('axes.formatter', useoffset=False)           \n",
    "\n",
    "plt.scatter(prob_list, final_char_path_length_list, marker='o', label='Scaled Characteristic Path Length')  # Plots the scatter plot for Scaled Characteristic Path length\n",
    "plt.scatter(prob_list, final_clust_coeff_list, marker = 's', label='Scaled Clustering Coefficient')         # Plots the scatter plot for Scaled Clustering Coefficient\n",
    "\n",
    "ax=plt.gca()\n",
    "ax.set_xscale('log')                                # Sets the scale of the X-axis as the log scale\n",
    "plt.title(\"Scaled CC and Scaled Char Path length w.r.t. probability\")\n",
    "plt.xlabel(\"Probability(p)\")                        # X-axis is labelled as probability\n",
    "plt.ylabel(\"Fraction\")                              # Y-axis is labelled as the Fraction\n",
    "plt.legend()\n",
    "plt.show()                                          # Shows the plot"
   ]
  },
  {
   "cell_type": "code",
   "execution_count": null,
   "metadata": {},
   "outputs": [],
   "source": []
  }
 ],
 "metadata": {
  "kernelspec": {
   "display_name": "Python 3",
   "language": "python",
   "name": "python3"
  },
  "language_info": {
   "codemirror_mode": {
    "name": "ipython",
    "version": 3
   },
   "file_extension": ".py",
   "mimetype": "text/x-python",
   "name": "python",
   "nbconvert_exporter": "python",
   "pygments_lexer": "ipython3",
   "version": "3.7.4"
  }
 },
 "nbformat": 4,
 "nbformat_minor": 2
}
