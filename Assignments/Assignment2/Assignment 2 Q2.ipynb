{
 "cells": [
  {
   "cell_type": "markdown",
   "metadata": {},
   "source": [
    "## Q.2.\n",
    "\n",
    "Write the code to implement Barabasi-Albert (BA) algorithm for generation of scale free networks. Vary the size of the initial random network as well as number of nodes and edges added at every stage of evolution. Assess the topology of the final network (minimum 100 instances) in terms of its (a) average clustering coefficient, (b) characteristic path length, and (c) degree distribution."
   ]
  },
  {
   "cell_type": "markdown",
   "metadata": {},
   "source": [
    "## Libraries Import"
   ]
  },
  {
   "cell_type": "code",
   "execution_count": 1,
   "metadata": {},
   "outputs": [],
   "source": [
    "import random\n",
    "import numpy as np\n",
    "import networkx as nx\n",
    "import matplotlib.pyplot as plt\n",
    "from collections import Counter"
   ]
  },
  {
   "cell_type": "code",
   "execution_count": 2,
   "metadata": {},
   "outputs": [],
   "source": [
    "\"\"\"\n",
    "Function         : createInitialGraph\n",
    "Input Parameters : Initial number of nodes, m0\n",
    "Purpose          : Create an initial graph with m0 nodes each connected with atleast one edge\n",
    "Returns          : A Graph containing m0 nodes each connected to each other using atleast one edge\n",
    "\"\"\"\n",
    "\n",
    "def createInitialGraph(m0, total_edges):\n",
    "    node_list = [item for item in range(0, m0)]          # To define the nodes\n",
    "    G = nx.Graph()                                       # Defines a new instance of the graph\n",
    "    G.add_nodes_from(node_list)                          # The nodes defined are added to the graph without any edges as of now\n",
    "    \n",
    "    edges_added = 0                                       # A variable to keep track of the number of edges added\n",
    "    while edges_added < total_edges:                      # Run the loop until the defined number of edges is not made\n",
    "        for node in node_list:                               # For each of the node present in the graph\n",
    "            added_flag = False                               # Initially there is no edge from this node, therefore added_flag is False\n",
    "            while not added_flag:                            # Until the edge from current node is added into the graph\n",
    "                random_vertex = random.randint(0, m0-1)      # Pick a random vertex to which the current node will be connected to\n",
    "                if random_vertex != node:                    # Ensure that the random vertex selected is not the same as the current node\n",
    "                    if not G.has_edge(random_vertex, node):  # Also ensure that these two nodes are not connected before\n",
    "                        G.add_edge(random_vertex, node)      # If above conditions are satisfied, then add the edge between these nodes\n",
    "                        added_flag = True                    # Set the flag to True\n",
    "                        edges_added += 1                     # Increment the edge count\n",
    "    return G                                             # Returns the Graph thus obtained"
   ]
  },
  {
   "cell_type": "code",
   "execution_count": 3,
   "metadata": {},
   "outputs": [],
   "source": [
    "\"\"\"\n",
    "Function         : getRandomNode\n",
    "Input Parameters : Graph, degree list of the Graph\n",
    "Purpose          : Finds the node whose probability is greater than a random number\n",
    "Returns          : Returns the node whose probability is greater than a random number\n",
    "\"\"\"\n",
    "\n",
    "def getRandomNode(G, degree_list):\n",
    "    \n",
    "    node_list = G.nodes()                                      # Gets the list of nodes\n",
    "    degree_dict = dict(degree_list)                            # Convert the degree list into a dictionary\n",
    "    denom_sum = sum(degree_dict.values())                      # Add the value of all degrees ans assigns it to denominator value\n",
    "    probability_list = []                                      # Declare probability list\n",
    "    cum_prob = []                                              # Declare Cumulative probability list\n",
    "    prev_prob = 0                                              # Initialize cumulative probability value\n",
    "    \n",
    "    for node in G.nodes():                                     # For each node in the Graph\n",
    "        degree_node = G.degree(node)                           # Get the degree of the node in the iteration\n",
    "        prob = degree_node/denom_sum                           # Calculate the probability value\n",
    "        prev_prob += prob                                      # Add to the cumulative probability\n",
    "        probability_list.append(prob)                          # Append the probability value to the probability list\n",
    "        cum_prob.append(prev_prob)                             # Store the cumulative probability in the cum_prob list\n",
    "\n",
    "    random_num = random.uniform(0, 1)                          # Generate a random number between 0 and 1\n",
    "    for i in range(len(cum_prob)):                             # For each value present in the cum_prob list\n",
    "        if cum_prob[i] >= random_num:                          # If the random number selected is less than the current cumulative probability value\n",
    "            return i                                           # Then return the current node"
   ]
  },
  {
   "cell_type": "code",
   "execution_count": 4,
   "metadata": {},
   "outputs": [],
   "source": [
    "\"\"\"\n",
    "Function         : barabasiModel\n",
    "Input Parameters : Graph(G), m(Number of edges to be drawn), m0(Initial number of nodes), n(Total number of nodes)\n",
    "Purpose          : Connects the new nodes to m previously added nodes and generate a graph in accordance with Barabasi-Albert Model\n",
    "Returns          : A Graph which satisfies the Barabasi-Albert Model\n",
    "\"\"\"\n",
    "\n",
    "def barabasiModel(G, m, m0, n):    \n",
    "    for i in range(m0, n):                                         # For each of the nodes left after making the initial graph\n",
    "        G.add_node(i)                                              # Add the node into the graph\n",
    "        degree_list = nx.degree(G)                                 # Find the degree_list of the graph\n",
    "        \n",
    "        num_edges = 0                                              # Counter to keep track of number of edges\n",
    "        while num_edges < m:                                       # Loop until the number of edges is not equal to the count of edges to be connected to\n",
    "            random_vertex = getRandomNode(G, degree_list)          # Get the node to connect to\n",
    "            if (i, random_vertex) not in G.edges():                # If the edge is not already present in the graph\n",
    "                G.add_edge(i, random_vertex)                       # Add the edge into the graph\n",
    "                num_edges += 1                                     # Increase the count of number of edges\n",
    "            else:\n",
    "                pass\n",
    "    return G                                                       # Return the graph which satisfies the Barabasi-Albert model"
   ]
  },
  {
   "cell_type": "code",
   "execution_count": 5,
   "metadata": {},
   "outputs": [],
   "source": [
    "\"\"\"\n",
    "Function         : getDegreeDist\n",
    "Input Parameters : Graph(G), degree distribution dictionary\n",
    "Purpose          : To add the degree distribution values of the current graph into the degree distribution dictionary already present\n",
    "Returns          : The degree distribution dictionary with the degree distribution of current graph added to it.\n",
    "\"\"\"\n",
    "def getDegreeDist(G, degree_distribution_dict):\n",
    "    degree_list = nx.degree(G)                                    # Get the degree of the nodes in the graph(list of tuples)\n",
    "    degree_dict = dict(degree_list)                               # Convert the list of tuples obtained into a dictionary\n",
    "    degree_dist = Counter(degree_dict.values())                   # Find the frequency of occurence of each of the degree\n",
    "            \n",
    "    for x, y in degree_dist.items():                              # Loop for each of the degree-frequency pair\n",
    "        if x in degree_distribution_dict.keys():                  # If that degree is present already\n",
    "            degree_distribution_dict[x].append(degree_dist[x])    # Append that to already existing list\n",
    "        else:\n",
    "            degree_distribution_dict[x] = []                      # Else create new list\n",
    "            degree_distribution_dict[x].append(degree_dist[x])    # Store the value into the new list corresponding to the degree\n",
    "    return degree_distribution_dict                               # Returns the degree distribution dictionary"
   ]
  },
  {
   "cell_type": "code",
   "execution_count": 6,
   "metadata": {},
   "outputs": [],
   "source": [
    "\"\"\"\n",
    "Function         : getMeanStd\n",
    "Input Parameters : degree distribution dictionary and number of nodes in the graph\n",
    "Purpose          : To get the mean dictionary, std deviation dictionary and their corresponding lists\n",
    "Returns          : The mean dictionary, std deviation dictionary and their corresponding lists.\n",
    "\"\"\"\n",
    "def getMeanStd(degree_distribution_dict, num_nodes):\n",
    "    mean_dict = {}\n",
    "    std_dev_dict = {}\n",
    "    for x, y in degree_distribution_dict.items():\n",
    "        mean = np.mean(y)/num_nodes                                    # Calculates Mean of the values\n",
    "        std_dev = np.std(y)/num_nodes                                  # Calculates standard deviation of the values\n",
    "        mean_dict[x] = mean\n",
    "        std_dev_dict[x] = std_dev\n",
    "\n",
    "    mean_list = []\n",
    "    std_list = []\n",
    "    for x in sorted(mean_dict):\n",
    "        mean_list.append(mean_dict[x])                                 # Creates mean list\n",
    "        std_list.append(std_dev_dict[x])                               # Creates standard deviation list\n",
    "    return mean_dict, std_dev_dict, mean_list, std_list"
   ]
  },
  {
   "cell_type": "code",
   "execution_count": 7,
   "metadata": {},
   "outputs": [],
   "source": [
    "\"\"\"\n",
    "Function         : plotDegreeDist\n",
    "Input Parameters : mean dictionary, mean list, std deviation list, scale and power\n",
    "Purpose          : To Plot the error bar\n",
    "Returns          : Shows the plot and returns nothing\n",
    "\"\"\"\n",
    "def plotDegreeDist(mean_dict, mean_list, std_list, scale = 'log'):\n",
    "\n",
    "    # For degree distribution and plot the degree distribution\n",
    "    fig = plt.figure(figsize = (15,15))                                          # Sets the figure size\n",
    "\n",
    "    plt.errorbar(np.array(sorted(mean_dict)), mean_list, std_list, fmt='ok')     # Plots the error bar\n",
    "    if scale == 'log':                                                           # If scale selected is log scale\n",
    "        ax=plt.gca()\n",
    "        ax.set_xscale('log')\n",
    "        ax.set_yscale('log')\n",
    "    plt.title('Degree Distribution for Barabasi Albert Model Graph')             # Sets the title of the Plot\n",
    "    plt.xlabel('Degree(k)')                                                      # Sets the x axis label \n",
    "    plt.ylabel('Pk')                                                             # Sets the y axis label\n",
    "    plt.show()                                                                   # Shows the plot"
   ]
  },
  {
   "cell_type": "code",
   "execution_count": 8,
   "metadata": {},
   "outputs": [],
   "source": [
    "\"\"\"\n",
    "Function         : plotDegreeDistNormal\n",
    "Input Parameters : mean dictionary, mean list, std deviation list and scale\n",
    "Purpose          : To Plot the scatter plot\n",
    "Returns          : Shows the plot and returns nothing\n",
    "\"\"\"\n",
    "def plotDegreeDistNormal(mean_dict, mean_list, std_list, scale = 'log'):\n",
    "\n",
    "    # For degree distribution and plot the degree distribution\n",
    "    fig = plt.figure(figsize = (15,15))                                          # Sets the figure size\n",
    "\n",
    "    plt.scatter(np.array(sorted(mean_dict)), mean_list)                          # Plots the scatter plot\n",
    "    if scale == 'log':                                                           # If scale selected is log scale\n",
    "        ax=plt.gca()\n",
    "        ax.set_xscale('log')\n",
    "        ax.set_yscale('log')\n",
    "    plt.title('Degree Distribution for Barabasi Albert Model Graph')             # Sets the title of the Plot\n",
    "    plt.xlabel('Degree(k)')                                                      # Sets the x axis label \n",
    "    plt.ylabel('Pk')                                                             # Sets the y axis label\n",
    "    plt.show()                                                                   # Shows the plot"
   ]
  },
  {
   "cell_type": "code",
   "execution_count": 9,
   "metadata": {
    "scrolled": true
   },
   "outputs": [
    {
     "name": "stdout",
     "output_type": "stream",
     "text": [
      "Random nodes m0: 10\n",
      "Total edges added to initial random graph: 20\n",
      "Number of nodes the newly added node will be connected to: 6\n",
      "Running instance: 1\n",
      "Number of edges in Barabasi Albert Model: 8960\n",
      "Running instance: 2\n",
      "Running instance: 3\n",
      "Running instance: 4\n",
      "Running instance: 5\n",
      "Running instance: 6\n",
      "Running instance: 7\n",
      "Running instance: 8\n",
      "Running instance: 9\n",
      "Running instance: 10\n",
      "Running instance: 11\n",
      "Running instance: 12\n",
      "Running instance: 13\n",
      "Running instance: 14\n",
      "Running instance: 15\n",
      "Running instance: 16\n",
      "Running instance: 17\n",
      "Running instance: 18\n",
      "Running instance: 19\n",
      "Running instance: 20\n",
      "Running instance: 21\n",
      "Running instance: 22\n",
      "Running instance: 23\n",
      "Running instance: 24\n",
      "Running instance: 25\n",
      "Running instance: 26\n",
      "Running instance: 27\n",
      "Running instance: 28\n",
      "Running instance: 29\n",
      "Running instance: 30\n",
      "Running instance: 31\n",
      "Running instance: 32\n",
      "Running instance: 33\n",
      "Running instance: 34\n",
      "Running instance: 35\n",
      "Running instance: 36\n",
      "Running instance: 37\n",
      "Running instance: 38\n",
      "Running instance: 39\n",
      "Running instance: 40\n",
      "Running instance: 41\n",
      "Running instance: 42\n",
      "Running instance: 43\n",
      "Running instance: 44\n",
      "Running instance: 45\n",
      "Running instance: 46\n",
      "Running instance: 47\n",
      "Running instance: 48\n",
      "Running instance: 49\n",
      "Running instance: 50\n",
      "Running instance: 51\n",
      "Running instance: 52\n",
      "Running instance: 53\n",
      "Running instance: 54\n",
      "Running instance: 55\n",
      "Running instance: 56\n",
      "Running instance: 57\n",
      "Running instance: 58\n",
      "Running instance: 59\n",
      "Running instance: 60\n",
      "Running instance: 61\n",
      "Running instance: 62\n",
      "Running instance: 63\n",
      "Running instance: 64\n",
      "Running instance: 65\n",
      "Running instance: 66\n",
      "Running instance: 67\n",
      "Running instance: 68\n",
      "Running instance: 69\n",
      "Running instance: 70\n",
      "Running instance: 71\n",
      "Running instance: 72\n",
      "Running instance: 73\n",
      "Running instance: 74\n",
      "Running instance: 75\n",
      "Running instance: 76\n",
      "Running instance: 77\n",
      "Running instance: 78\n",
      "Running instance: 79\n",
      "Running instance: 80\n",
      "Running instance: 81\n",
      "Running instance: 82\n",
      "Running instance: 83\n",
      "Running instance: 84\n",
      "Running instance: 85\n",
      "Running instance: 86\n",
      "Running instance: 87\n",
      "Running instance: 88\n",
      "Running instance: 89\n",
      "Running instance: 90\n",
      "Running instance: 91\n",
      "Running instance: 92\n",
      "Running instance: 93\n",
      "Running instance: 94\n",
      "Running instance: 95\n",
      "Running instance: 96\n",
      "Running instance: 97\n",
      "Running instance: 98\n",
      "Running instance: 99\n",
      "Running instance: 100\n",
      "\n",
      "Average characteristic path length over 100 instances: 2.961941774516344\n",
      "\n",
      "Average clustering coefficient over 100 instances: 0.03128995462134849\n"
     ]
    }
   ],
   "source": [
    "n = 1500                                            # Total number of nodes\n",
    "\n",
    "char_path_length_list = []                          # Declare charcteristic path length list\n",
    "clustering_coefficient_list = []                    # Declare clustering coefficient list\n",
    "degree_distribution_dict = {}                       # Declare degree distribution dictionary\n",
    "m0 = 10                                             # Setting the initial number of nodes\n",
    "print(\"Random nodes m0:\", m0)\n",
    "edges_to_be_added = 20                              # Setting the number of edges in the initial graph\n",
    "print(\"Total edges added to initial random graph:\", edges_to_be_added)\n",
    "m = 6                                  # Sets the m value, the count of number of edges the newly added node will connect to\n",
    "print(\"Number of nodes the newly added node will be connected to:\", m)\n",
    "for i in range(100):                                # Loop for 100 instances\n",
    "    print(\"Running instance:\", str(i+1))  \n",
    "    G = createInitialGraph(m0, edges_to_be_added)   # Creates the initial graph of m0 nodes by calling createInitialGraph method\n",
    "    G = barabasiModel(G, m, m0, n)                  # Generates a Barabasi Albert Graph\n",
    "    if i == 0:\n",
    "        print(\"Number of edges in Barabasi Albert Model:\",len(G.edges()))\n",
    "    char_path_length = nx.average_shortest_path_length(G)     # Computes Characteristic Path length\n",
    "    clustering_coefficient = nx.average_clustering(G)         # Computes clustering coefficient\n",
    "    char_path_length_list.append(char_path_length)            # Appends characteristic path length to its list\n",
    "    clustering_coefficient_list.append(clustering_coefficient)# Appends clustering coefficient to its list\n",
    "    \n",
    "    degree_distribution_dict = getDegreeDist(G, degree_distribution_dict)  # Get degree distribution of current instance into the dictionary\n",
    "    \n",
    "print(\"\\nAverage characteristic path length over 100 instances:\", np.mean(char_path_length_list))\n",
    "print(\"\\nAverage clustering coefficient over 100 instances:\", np.mean(clustering_coefficient_list))\n",
    "mean_dict, std_dev_dict, mean_list, std_list = getMeanStd(degree_distribution_dict, n) # Get mean and std dev of degree distribution"
   ]
  },
  {
   "cell_type": "code",
   "execution_count": 11,
   "metadata": {},
   "outputs": [
    {
     "data": {
      "image/png": "[encoded data removed]",
      "text/plain": [
       "<Figure size 1080x1080 with 1 Axes>"
      ]
     },
     "metadata": {
      "needs_background": "light"
     },
     "output_type": "display_data"
    }
   ],
   "source": [
    "plotDegreeDist(mean_dict, mean_list, std_list)     # Plots the mean and std dev of degree distribution with log log scale"
   ]
  },
  {
   "cell_type": "code",
   "execution_count": 12,
   "metadata": {},
   "outputs": [
    {
     "data": {
      "image/png": "[encoded data removed]",
      "text/plain": [
       "<Figure size 1080x1080 with 1 Axes>"
      ]
     },
     "metadata": {
      "needs_background": "light"
     },
     "output_type": "display_data"
    }
   ],
   "source": [
    "plotDegreeDist(mean_dict, mean_list, std_list, scale='normal')  # Plots the mean and std dev of degree distribution with linear scale"
   ]
  },
  {
   "cell_type": "code",
   "execution_count": 13,
   "metadata": {},
   "outputs": [
    {
     "data": {
      "image/png": "[encoded data removed]",
      "text/plain": [
       "<Figure size 1080x1080 with 1 Axes>"
      ]
     },
     "metadata": {
      "needs_background": "light"
     },
     "output_type": "display_data"
    }
   ],
   "source": [
    "plotDegreeDistNormal(mean_dict, mean_list, std_list, scale = 'log') # Plots the degree distribution graph with log log scale"
   ]
  },
  {
   "cell_type": "markdown",
   "metadata": {},
   "source": [
    "From the Barabasi-Albert Model implemented above for 1500 nodes using Growth and Preferential Attachment concept, we can infer that it follows the Power law distribution as can be seen in the second plot and we can also see the presence of hubs in the degree distribution plot(third plot). Also, in the first plot, we can see that the mean and standard deviation of the degree distribution plot has been shown on the log-log scale and tries to exhibit the Power law distribution and shows the presence of hubs(in the tail) with almost zero std deviation. This also depicts the scale free nature of the network obtained by Barabasi Albert Model.\n",
    "\n",
    "The initial random network created consisted of 10 nodes and 20 edges and at each iteration 1 node with 6 edges were added to it."
   ]
  },
  {
   "cell_type": "markdown",
   "metadata": {},
   "source": [
    "Average characteristic path length over 100 instances: 2.961941774516344\n",
    "\n",
    "Average clustering coefficient over 100 instances: 0.03128995462134849"
   ]
  },
  {
   "cell_type": "code",
   "execution_count": null,
   "metadata": {},
   "outputs": [],
   "source": []
  }
 ],
 "metadata": {
  "kernelspec": {
   "display_name": "Python 3",
   "language": "python",
   "name": "python3"
  },
  "language_info": {
   "codemirror_mode": {
    "name": "ipython",
    "version": 3
   },
   "file_extension": ".py",
   "mimetype": "text/x-python",
   "name": "python",
   "nbconvert_exporter": "python",
   "pygments_lexer": "ipython3",
   "version": "3.7.4"
  }
 },
 "nbformat": 4,
 "nbformat_minor": 2
}
