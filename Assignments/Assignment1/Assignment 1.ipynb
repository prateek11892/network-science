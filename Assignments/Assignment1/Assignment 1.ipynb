{
 "cells": [
  {
   "cell_type": "code",
   "execution_count": 1,
   "metadata": {},
   "outputs": [],
   "source": [
    "# Data - us air data\n",
    "# Link to data - http://networkrepository.com/inf-USAir97.php\n",
    "\n",
    "# Data Statistics\n",
    "# Nodes 332\n",
    "# Edges 2126"
   ]
  },
  {
   "cell_type": "markdown",
   "metadata": {},
   "source": [
    "## Libraries Import"
   ]
  },
  {
   "cell_type": "code",
   "execution_count": 2,
   "metadata": {},
   "outputs": [],
   "source": [
    "import csv\n",
    "import numpy as np\n",
    "import random\n",
    "from itertools import combinations \n",
    "from collections import Counter\n",
    "import matplotlib.pyplot as plt"
   ]
  },
  {
   "cell_type": "code",
   "execution_count": 3,
   "metadata": {},
   "outputs": [],
   "source": [
    "def read_graph_edges(filename, num_nodes):\n",
    "    adj_matrix = [[0 for i in range(num_nodes)] for j in range(num_nodes)] \n",
    "    link_count = 0\n",
    "    with open(filename, 'r') as data:\n",
    "        for line in data:\n",
    "            edge_list = line.split()                                     # Split the edge data\n",
    "\n",
    "            # Since the graph is undirected, we need to take into account \n",
    "            # the edge to be represented both ways in the adjacency matrix\n",
    "            # a to b and b to a. Undirected graph -> symmetric adjacency matrix\n",
    "\n",
    "            adj_matrix[int(edge_list[0]) - 1][int(edge_list[1]) - 1] = 1 # Indicate the edge a to b in the adjacency matrix\n",
    "            adj_matrix[int(edge_list[1]) - 1][int(edge_list[0]) - 1] = 1 # Indicate the edge b to a in the adjacency matrix\n",
    "\n",
    "            link_count += 1\n",
    "        print('Link Count:', link_count)\n",
    "    return adj_matrix, link_count"
   ]
  },
  {
   "cell_type": "code",
   "execution_count": 4,
   "metadata": {},
   "outputs": [
    {
     "name": "stdout",
     "output_type": "stream",
     "text": [
      "Link Count: 2126\n"
     ]
    }
   ],
   "source": [
    "num_nodes = 332\n",
    "\n",
    "adj_matrix, link_count = read_graph_edges('usair.txt', num_nodes)"
   ]
  },
  {
   "cell_type": "markdown",
   "metadata": {},
   "source": [
    "## Q.1. a)\n",
    "\n",
    "(a) Represent the network in terms of its ‘adjacency matrix’ as well as ‘edge list’."
   ]
  },
  {
   "cell_type": "code",
   "execution_count": 5,
   "metadata": {},
   "outputs": [],
   "source": [
    "# Since the data is in the form of edge list, therefore respresenting it\n",
    "# in the form of adjacency matrix and the matrix has been converted to \n",
    "# the csv format file as the number of nodes is 332\n",
    "\n",
    "# Write the adjacency matrix to a CSV file\n",
    "def write_adj_matrix(filename, adj_matrix):\n",
    "    with open(filename,\"w+\") as mtx_csv:\n",
    "        csvWriter = csv.writer(mtx_csv,delimiter=',')\n",
    "        csvWriter.writerows(adj_matrix)"
   ]
  },
  {
   "cell_type": "code",
   "execution_count": 6,
   "metadata": {},
   "outputs": [],
   "source": [
    "write_adj_matrix(\"Q1_adj_matrix.csv\", adj_matrix)"
   ]
  },
  {
   "cell_type": "markdown",
   "metadata": {},
   "source": [
    "## Q.1. b)\n",
    "\n",
    "(b) Visualize the network."
   ]
  },
  {
   "cell_type": "code",
   "execution_count": 7,
   "metadata": {},
   "outputs": [],
   "source": [
    "# Q.1. b) is Visualizing the network and hence has been done in the Cytoscape. \n",
    "# The network image has been attached separately named as Q1.b.png\n"
   ]
  },
  {
   "cell_type": "markdown",
   "metadata": {},
   "source": [
    "## Q.1. c)\n",
    "\n",
    "(c) Comment on the ‘sparseness’ of the network."
   ]
  },
  {
   "cell_type": "code",
   "execution_count": 8,
   "metadata": {},
   "outputs": [
    {
     "name": "stdout",
     "output_type": "stream",
     "text": [
      "Total number of links possible: 54946\n",
      "Percentage of links present: 3.8692534488406802\n"
     ]
    }
   ],
   "source": [
    "node_list = [item for item in range(0, num_nodes)]           # Finds the list of node numbers in the graph\n",
    "all_pairs = list(combinations(node_list, 2))                 # Lists all the combinations of the node pairs\n",
    "print(\"Total number of links possible:\", len(all_pairs))\n",
    "print(\"Percentage of links present:\", (link_count/len(all_pairs))*100)"
   ]
  },
  {
   "cell_type": "markdown",
   "metadata": {},
   "source": [
    "Since the total number of links possible are 54946\n",
    "and the actual number of edges present are 2126\n",
    "\n",
    "Therefore, only 3.87% links are present out of the actual number.\n",
    "\n",
    "This number can be termed as less as the adjacency matrix consists of ~96% zeroes which is very less but since it is the case of real world network where we never get fully connected network or not even close to it many a times."
   ]
  },
  {
   "cell_type": "markdown",
   "metadata": {},
   "source": [
    "## Q.1. d)\n",
    "\n",
    "(d) Compute its average degree <𝑘>."
   ]
  },
  {
   "cell_type": "code",
   "execution_count": 9,
   "metadata": {},
   "outputs": [
    {
     "name": "stdout",
     "output_type": "stream",
     "text": [
      "Average degree <k>: 12.80722891566265\n"
     ]
    }
   ],
   "source": [
    "np_adj_matrix = np.array(adj_matrix)                       # Converts the list of list into numpy list\n",
    "sum_degree = np.sum(np_adj_matrix, axis = 1)               # Sums the degree of the node row-wise\n",
    "print('Average degree <k>:', np.sum(sum_degree)/num_nodes) # Finds the average degree of the network"
   ]
  },
  {
   "cell_type": "markdown",
   "metadata": {},
   "source": [
    "## Q.1. f)\n",
    "\n",
    "(f) Compute its Average Path Length (Implement Breadth First Search Algorithm), Diameter and Average Clustering Coefficient."
   ]
  },
  {
   "cell_type": "code",
   "execution_count": 10,
   "metadata": {},
   "outputs": [],
   "source": [
    "# BFS or Breadth first search algorithm\n",
    "\n",
    "def bfs(source):\n",
    "    visited = [False for i in range(num_nodes)]     # Visited array keeps track of all the nodes visited\n",
    "    dist  = [100000 for i in range(num_nodes)]      # dist is the distance of all the nodes reachable from the source node.\n",
    "                                                    # By default, One lakh is the infinite value assumed\n",
    "    farthest_vertex = source                        # farthest_vertex stores the farthest vertesx from the given node     \n",
    "    max_val = 0                                     # max_val stores the maximum distance of the node from given node\n",
    "    queue = []                                      # queue keeps the nodes to be traversed in FIFO manner\n",
    "    \n",
    "    queue.append(source)                            # Source or the starting node is inserted into the queue\n",
    "    dist[source] = 0                                # Distance of the source node from itself is Zero\n",
    "    \n",
    "    while len(queue) != 0:                          # The loop runs until the queue become empty\n",
    "        front = queue[0]                            # Take the front element from the queue\n",
    "        queue.pop(0)                                # Remove the front element or the element at 0th index\n",
    "        visited[front] = True                       # Mark the front element as visited = True\n",
    "        for i in range(len(adj_matrix[front])):     # for all the nodes present in the graph\n",
    "            if adj_matrix[front][i] == 1:           # if the node is the neighbour of the front node\n",
    "                if visited[i] == False and i not in queue:  # If the neighbour node is not visited and not already in the queue\n",
    "                    dist[i] = dist[front] + 1       # Increase the distance of the node by 1\n",
    "                    queue.append(i)                 # Also append that node to the end of the queue\n",
    "                    \n",
    "                    if dist[i] > max_val:           # Also update the max_val and farthest_vertex\n",
    "                        max_val = dist[i]\n",
    "                        farthest_vertex = i\n",
    "    return dist, farthest_vertex, max_val                 # Return max_val and farthest_vertex"
   ]
  },
  {
   "cell_type": "code",
   "execution_count": 11,
   "metadata": {
    "scrolled": true
   },
   "outputs": [
    {
     "name": "stdout",
     "output_type": "stream",
     "text": [
      "Average Path length, <d>: 2.7381247042550867\n"
     ]
    }
   ],
   "source": [
    "# Finding Average Path length\n",
    "\n",
    "path_length_list = []\n",
    "i=1\n",
    "for node in range(num_nodes):\n",
    "    dist, farthest_vertex, max_val = bfs(node)            # Call bfs on each node\n",
    "    for j in range(node+1, num_nodes):\n",
    "        path_length_list.append(dist[j])                  # Get the distance of each other node from the current node\n",
    "    i+=1\n",
    "\n",
    "print('Average Path length, <d>:', np.sum(path_length_list)/len(all_pairs))"
   ]
  },
  {
   "cell_type": "code",
   "execution_count": 12,
   "metadata": {},
   "outputs": [],
   "source": [
    "# Function that checks the link between two nodes\n",
    "\n",
    "def check_links(source, dest):\n",
    "    if adj_matrix[source][dest] == 1:\n",
    "        return 1\n",
    "    else:\n",
    "        return 0"
   ]
  },
  {
   "cell_type": "code",
   "execution_count": 13,
   "metadata": {},
   "outputs": [],
   "source": [
    "# Function that returns for the neighbours of the node\n",
    "\n",
    "def get_neighbours(node):\n",
    "    return np.nonzero(adj_matrix[node])"
   ]
  },
  {
   "cell_type": "code",
   "execution_count": 14,
   "metadata": {},
   "outputs": [
    {
     "name": "stdout",
     "output_type": "stream",
     "text": [
      "Average Clustering Coefficient, <C>: 0.625217249162503\n"
     ]
    }
   ],
   "source": [
    "# Calculating Average Clustering Coefficient\n",
    "\n",
    "total_Ci = 0\n",
    "for node in node_list:\n",
    "    Li = 0\n",
    "    neighbours = get_neighbours(node)                                       # Get all neighbours of the node\n",
    "    neighbour_comb = list(combinations(neighbours[0].tolist(), 2))          # Finds all combinations of the neighbours\n",
    "    if len(neighbour_comb) != 0:                                            # If combinations exists\n",
    "        for neighbour_tuple in neighbour_comb:                              # Check for each combination(present as a tuple)\n",
    "            if adj_matrix[neighbour_tuple[0]][neighbour_tuple[1]] == 1:     # If there exists a link between the combination of nodes\n",
    "                Li += 1\n",
    "        Ci = Li/len(neighbour_comb)                                         # Ci is the Clustering coefficient of the node in focus\n",
    "        total_Ci += Ci\n",
    "print('Average Clustering Coefficient, <C>:', total_Ci/num_nodes)"
   ]
  },
  {
   "cell_type": "code",
   "execution_count": 15,
   "metadata": {},
   "outputs": [
    {
     "name": "stdout",
     "output_type": "stream",
     "text": [
      "Diameter: 6\n"
     ]
    }
   ],
   "source": [
    "# Way of finding Diameter\n",
    "# 1. From any arbitrary vertex, find the farthest vertex from it by running the bfs algorithm.\n",
    "# 2. From the farthest vertex obtained in Step 1, again run bfs and find the farthest vertex.\n",
    "# 3. The distance between the vertex obtained in Step 2 and Step 1 is the diameter.\n",
    "\n",
    "dist, farthest_vertex, max_val = bfs(0)\n",
    "dist, farthest_vertex, max_val = bfs(farthest_vertex)\n",
    "print('Diameter:', max_val)"
   ]
  },
  {
   "cell_type": "markdown",
   "metadata": {},
   "source": [
    "## Q.1. e)\n",
    "\n",
    "(e) Plot its ‘scaled degree distribution’, 𝑝𝑘×𝑘."
   ]
  },
  {
   "cell_type": "code",
   "execution_count": 16,
   "metadata": {},
   "outputs": [],
   "source": [
    "# For degree distribution\n",
    "sum_degree = np.sum(np_adj_matrix, axis = 1)         # Since the graph is undirected, summing the adjacency matrix row wise\n",
    "max_degree = np.max(sum_degree)                      # Finds the max degree for scaling the degree distribution\n",
    "degree_dist = Counter(sum_degree)                    # Finds the frequency of the degrees encountered\n",
    "degree_dist_list = list(degree_dist.items())         # Converting the dictionary obtained as degree_dist to the list form"
   ]
  },
  {
   "cell_type": "code",
   "execution_count": 17,
   "metadata": {},
   "outputs": [
    {
     "data": {
      "image/png": "[encoded data removed]",
      "text/plain": [
       "<Figure size 1080x1080 with 1 Axes>"
      ]
     },
     "metadata": {
      "needs_background": "light"
     },
     "output_type": "display_data"
    }
   ],
   "source": [
    "# This code plots the Scaled Degree Distribution\n",
    "\n",
    "scaled_degree = [(elem1, elem2/max_degree) for elem1, elem2 in degree_dist_list]  # Scaling the frequency by dividing by max_degree\n",
    "fig = plt.figure(figsize = (15,15))\n",
    "plt.scatter(*zip(*scaled_degree))\n",
    "plt.title('Scaled Degree Distribution')\n",
    "plt.xlabel('Degree(k)')\n",
    "plt.ylabel('Pk')\n",
    "plt.show()"
   ]
  },
  {
   "cell_type": "markdown",
   "metadata": {},
   "source": [
    "## Q.4.\n",
    "\n",
    "Write a Python script to create a Gilbert random graph corresponding to an undirected and unweighted real-world network. Plot and compare their ‘degree distributions’. Compute the degree distribution of the random graph over 100 instances."
   ]
  },
  {
   "cell_type": "code",
   "execution_count": 18,
   "metadata": {},
   "outputs": [
    {
     "name": "stdout",
     "output_type": "stream",
     "text": [
      "Probability, p: 0.0386925344884068\n"
     ]
    }
   ],
   "source": [
    "## Creating a Gilbert Random Graph\n",
    "\n",
    "# p is the probability threshold under which the nodes will be connected and above that the nodes won't be connected.\n",
    "# count is the number of links present in the graph already\n",
    "L = 2126\n",
    "p = L/len(all_pairs)\n",
    "print('Probability, p:', p)"
   ]
  },
  {
   "cell_type": "code",
   "execution_count": 19,
   "metadata": {},
   "outputs": [],
   "source": [
    "# This function creates a Gilbert Random Graph G(n, p).\n",
    "# It first generates a random number between 0 and 1 for each pair of nodes\n",
    "# If the number is less than the value p, then the edge is connected between the nodes, otherwise not connected.\n",
    "\n",
    "def create_random_graph():\n",
    "    random_adj_matrix = [[0 for i in range(num_nodes)] for j in range(num_nodes)]\n",
    "    random_edges = 0\n",
    "    for pair in all_pairs:\n",
    "        num = random.uniform(0, 1)                      # Generate a random number between 0 and 1\n",
    "        if num <= p: \n",
    "            random_adj_matrix[pair[0]][pair[1]] = 1     # Since undirected, therefore edge from a to b\n",
    "            random_adj_matrix[pair[1]][pair[0]] = 1     # and edge from b to a\n",
    "            random_edges += 1\n",
    "    return random_adj_matrix"
   ]
  },
  {
   "cell_type": "code",
   "execution_count": 20,
   "metadata": {
    "scrolled": true
   },
   "outputs": [],
   "source": [
    "sum_random_degree = []\n",
    "merged_degree_dict = {}\n",
    "for i in range(100):                                              # For the ensemble of size = 100\n",
    "    random_adj_matrix = create_random_graph()                     # Creates Random Graph\n",
    "    degree_list = np.sum(random_adj_matrix, axis = 1)             # Degree for each node in the random graph\n",
    "    degree_dist = Counter(degree_list)                            # Finds frequency of each degree\n",
    "    for x, y in degree_dist.items():\n",
    "        if x in merged_degree_dict.keys():\n",
    "            merged_degree_dict[x].append(degree_dist[x])\n",
    "        else:\n",
    "            merged_degree_dict[x] = []\n",
    "            merged_degree_dict[x].append(degree_dist[x])\n",
    "    \n",
    "    sum_random_degree.append(degree_list)\n",
    "    \n",
    "mean_dict = {}\n",
    "std_dev_dict = {}\n",
    "for x, y in merged_degree_dict.items():\n",
    "    mean = np.mean(y)/num_nodes                                    # Calculates Mean of the values\n",
    "    std_dev = np.std(y)/num_nodes                                  # Calculates standard deviation of the values\n",
    "    mean_dict[x] = mean\n",
    "    std_dev_dict[x] = std_dev\n",
    "\n",
    "mean_list = []\n",
    "std_list = []\n",
    "for x in sorted(mean_dict):\n",
    "    mean_list.append(mean_dict[x])                                 # Creates mean list\n",
    "    std_list.append(std_dev_dict[x])                               # Creates standard deviation list"
   ]
  },
  {
   "cell_type": "code",
   "execution_count": 21,
   "metadata": {},
   "outputs": [
    {
     "data": {
      "image/png": "[encoded data removed]",
      "text/plain": [
       "<Figure size 1080x1080 with 1 Axes>"
      ]
     },
     "metadata": {
      "needs_background": "light"
     },
     "output_type": "display_data"
    }
   ],
   "source": [
    "## Calculate degree distribution\n",
    "\n",
    "# For degree distribution and plot the degree distribution\n",
    "fig = plt.figure(figsize = (15,15))\n",
    "sum_random_degree = np.sum(random_adj_matrix, axis = 1)\n",
    "random_max_degree = np.max(sum_random_degree)\n",
    "degree_dist_random = Counter(sum_random_degree)\n",
    "degree_dist_random_list = list(degree_dist_random.items())\n",
    "\n",
    "scaled_degree_random = [(elem1, elem2/random_max_degree) for elem1, elem2 in degree_dist_random_list]\n",
    "plt.scatter(*zip(*scaled_degree), label = \"real\")\n",
    "plt.errorbar(np.array(sorted(mean_dict)), mean_list, std_list, fmt='ok', label=\"random\")\n",
    "plt.title('Random Vs Real Network Degree Distribution')\n",
    "plt.legend(loc =\"upper right\") \n",
    "plt.xlabel('Degree(k)')\n",
    "plt.ylabel('Pk')\n",
    "plt.show()"
   ]
  },
  {
   "cell_type": "markdown",
   "metadata": {},
   "source": [
    "## Q.5.\n",
    "\n",
    "Load the real-world networks studied in above examples in Cytoscape and visualize them using various layouts. Export the images."
   ]
  },
  {
   "cell_type": "code",
   "execution_count": 22,
   "metadata": {},
   "outputs": [],
   "source": [
    "# The real world network of us air was loaded into the Cytoscape tool and various layouts were represented.\n",
    "# The images have been attached separately for your reference.\n",
    "\n",
    "# The following layouts were tried:\n",
    "\n",
    "## For usair dataset\n",
    "# 1. Grid Layout - usair\n",
    "# 2. Prefuse Force Directed Layout - usair\n",
    "# 3. Degree Sorted Circle Layout - usair\n",
    "# 4. Prefuse Force Directed OpenCL Layout - usair\n",
    "# 5. Circular Layout - usair\n",
    "# 6. Compound Spring Embedded (CoSE) - usair\n",
    "\n",
    "## For celegan dataset\n",
    "# 1. Grid Layout - celegan\n",
    "# 2. Prefuse Force Directed Layout - celegan\n",
    "# 3. Degree Sorted Circle Layout - celegan\n",
    "# 4. Prefuse Force Directed OpenCL Layout - celegan\n",
    "# 5. Circular Layout - celegan\n",
    "# 6. Compound Spring Embedded (CoSE) - celegan\n"
   ]
  },
  {
   "cell_type": "markdown",
   "metadata": {},
   "source": [
    "## Q.2.\n",
    "\n",
    "Write Python script for computing in/out-degree for directed graphs. For a real world directed network compute and plot its in- and out- degree distribution."
   ]
  },
  {
   "cell_type": "code",
   "execution_count": 23,
   "metadata": {},
   "outputs": [],
   "source": [
    "# Data - The Caenorhabditis elegans worm’s neural network\n",
    "# Link to data - http://opsahl.co.uk/tnet/datasets/celegans_n306.txt\n",
    "\n",
    "# Data Statistics\n",
    "# Nodes 306\n",
    "# Edges 2345"
   ]
  },
  {
   "cell_type": "code",
   "execution_count": 24,
   "metadata": {},
   "outputs": [],
   "source": [
    "# This function reads the edge list file, creates the adjacency matrix and also finds the in-degree and out-degree\n",
    "\n",
    "def read_graph_edges_directed(filename, num_nodes):\n",
    "    link_count = 0\n",
    "    adj_matrix = [[0 for i in range(num_nodes)] for j in range(num_nodes)] \n",
    "    in_degree = [0 for i in range(num_nodes)]\n",
    "    out_degree = [0 for i in range(num_nodes)]\n",
    "    with open(filename, 'r') as data:    \n",
    "        for line in data:\n",
    "            edge_list = line.split()                                       # Split the edge data\n",
    "\n",
    "            # Since the graph is directed, we need to take into account \n",
    "            # the edge to be represented as a to b -> non symmetric adjacency matrix        \n",
    "            adj_matrix[int(edge_list[0]) - 1][int(edge_list[1]) - 1] = 1\n",
    "\n",
    "            in_degree[int(edge_list[1]) - 1] += 1                          # The second node will have in degree increased\n",
    "            out_degree[int(edge_list[0]) - 1] += 1                         # The first node will have its out degree increased\n",
    "            link_count += 1\n",
    "    return adj_matrix, link_count, in_degree, out_degree"
   ]
  },
  {
   "cell_type": "code",
   "execution_count": 25,
   "metadata": {},
   "outputs": [],
   "source": [
    "num_nodes = 306\n",
    "\n",
    "# Finds the adjacency matrix for the directed graph\n",
    "adj_matrix_directed, link_count, in_degree, out_degree = read_graph_edges_directed(\"celegan.txt\", num_nodes)\n",
    "\n",
    "write_adj_matrix(\"Q2_adj_matrix.csv\", adj_matrix_directed)"
   ]
  },
  {
   "cell_type": "code",
   "execution_count": 26,
   "metadata": {
    "scrolled": false
   },
   "outputs": [
    {
     "data": {
      "image/png": "[encoded data removed]",
      "text/plain": [
       "<Figure size 1080x1080 with 1 Axes>"
      ]
     },
     "metadata": {
      "needs_background": "light"
     },
     "output_type": "display_data"
    },
    {
     "data": {
      "image/png": "[encoded data removed]",
      "text/plain": [
       "<Figure size 1080x1080 with 1 Axes>"
      ]
     },
     "metadata": {
      "needs_background": "light"
     },
     "output_type": "display_data"
    }
   ],
   "source": [
    "# Compute in-degree distribution and plot the graph\n",
    "\n",
    "max_in_degree = np.max(in_degree)\n",
    "indegree_dist = Counter(in_degree)\n",
    "indegree_dist_list = list(indegree_dist.items())\n",
    "\n",
    "scaled_degree = [(elem1, elem2/max_in_degree) for elem1, elem2 in indegree_dist_list]\n",
    "fig = plt.figure(figsize = (15,15))\n",
    "plt.scatter(*zip(*scaled_degree))\n",
    "plt.title('In Degree Distribution')\n",
    "plt.xlabel('Degree(k)')\n",
    "plt.ylabel('Pk')\n",
    "plt.show()\n",
    "\n",
    "# Compute out-degree distribution and plot the graph\n",
    "\n",
    "max_out_degree = np.max(out_degree)\n",
    "outdegree_dist = Counter(out_degree)\n",
    "outdegree_dist_list = list(outdegree_dist.items())\n",
    "\n",
    "scaled_degree = [(elem1, elem2/max_out_degree) for elem1, elem2 in outdegree_dist_list]\n",
    "fig = plt.figure(figsize = (15,15))\n",
    "plt.scatter(*zip(*scaled_degree))\n",
    "plt.title('Out Degree Distribution')\n",
    "plt.xlabel('Degree(k)')\n",
    "plt.ylabel('Pk')\n",
    "plt.show()"
   ]
  },
  {
   "cell_type": "markdown",
   "metadata": {},
   "source": [
    "## Q.3.\n",
    "\n",
    "How would redefine the notion of ‘degree’ and ‘clustering coefficient’ for a weighted network to account for the edge weights? Implement a Python script to compute these and, for any relevant real-world graph, plot (a) ‘weighted degree distribution’ and (b) ‘Clustering Coefficient’ versus ‘Degree’."
   ]
  },
  {
   "cell_type": "markdown",
   "metadata": {},
   "source": [
    "Answer: \n",
    "\n",
    "    Redefining the notion of degree\n",
    "    \n",
    "    To calculate the weighted degree, we can sum all the edge weights from an edge. Just as in the case of unweighted network where we can only just count the edges by counting the number of ones in a particular row as the degree of that node, likewise the sum of the weights can be used to define the weighted degree of the node.\n",
    "    \n",
    "    For the network taken \"The Caenorhabditis elegans worm’s neural network\", the sum of weights can represent total number of synapses and gap junctions from a particular neuron.\n",
    "    \n",
    "    Redefining the notion of clustering coefficient\n",
    "    \n",
    "    The clustering coefficient can be redefined as the multiplication of total proportion of the weight attached to a node as compared to the total weight present in the graph and the clustering coefficient of unweighted graph. Since the value of clustering coefficient is always between 0 to 1, therefore proportion of weights have been taken into account.      \n",
    "    "
   ]
  },
  {
   "cell_type": "code",
   "execution_count": 27,
   "metadata": {},
   "outputs": [],
   "source": [
    "# Data - The Caenorhabditis elegans worm’s neural network\n",
    "# Link to data - http://opsahl.co.uk/tnet/datasets/celegans_n306.txt\n",
    "\n",
    "# Data Statistics\n",
    "# Nodes 306\n",
    "# Edges 2345\n",
    "\n",
    "# Although this graph is directed in nature, but for the purpose of weighted computation, considering it as undirected"
   ]
  },
  {
   "cell_type": "code",
   "execution_count": 28,
   "metadata": {},
   "outputs": [],
   "source": [
    "def read_graph_edges_weighted(filename, num_nodes):\n",
    "    adj_matrix = [[0 for i in range(num_nodes)] for j in range(num_nodes)] \n",
    "    link_count = 0\n",
    "    with open(filename, 'r') as data:\n",
    "        for line in data:\n",
    "            edge_list_data = line.split()                               # Split the edge data\n",
    "\n",
    "            # Since the graph is undirected, we need to take into account \n",
    "            # the edge to be represented both ways in the adjacency matrix\n",
    "            # a to b and b to a. Undirected graph -> symmetric adjacency matrix\n",
    "\n",
    "            # edge_list_data[0] is the node\n",
    "            # edge_list_data[1] is the node\n",
    "            # edge_list_data[2] is the weight of the edge\n",
    "            adj_matrix[int(edge_list_data[0]) - 1][int(edge_list_data[1]) - 1] = edge_list_data[2] # Indicate the edge a to b in the adjacency matrix\n",
    "            adj_matrix[int(edge_list_data[1]) - 1][int(edge_list_data[0]) - 1] = edge_list_data[2] # Indicate the edge b to a in the adjacency matrix\n",
    "\n",
    "            link_count += 1\n",
    "    return adj_matrix, link_count"
   ]
  },
  {
   "cell_type": "code",
   "execution_count": 29,
   "metadata": {},
   "outputs": [],
   "source": [
    "num_nodes = 306\n",
    "\n",
    "# Call the function to get the weighted graph matrix\n",
    "adj_matrix, link_count = read_graph_edges_weighted('celegan.txt', num_nodes)"
   ]
  },
  {
   "cell_type": "code",
   "execution_count": 30,
   "metadata": {},
   "outputs": [],
   "source": [
    "np_adj_matrix = np.array(adj_matrix, dtype=int)            # Converts the list of list into numpy list\n",
    "sum_weighted_degree = np.sum(np_adj_matrix, axis = 1)      # Sums the degree of the node row-wise"
   ]
  },
  {
   "cell_type": "code",
   "execution_count": 31,
   "metadata": {},
   "outputs": [
    {
     "data": {
      "image/png": "[encoded data removed]",
      "text/plain": [
       "<Figure size 1080x1080 with 1 Axes>"
      ]
     },
     "metadata": {
      "needs_background": "light"
     },
     "output_type": "display_data"
    }
   ],
   "source": [
    "weighted_degree_dist = Counter(sum_weighted_degree)                            # Finds the frequency of each of the degree\n",
    "weighted_degree_dist_list = list(weighted_degree_dist.items())\n",
    "\n",
    "scaled_degree = [(elem1, elem2) for elem1, elem2 in weighted_degree_dist_list]\n",
    "fig = plt.figure(figsize = (15,15))\n",
    "plt.scatter(*zip(*scaled_degree))\n",
    "plt.title('Weighted Degree Distribution')\n",
    "plt.xlabel('Weighted Degree')\n",
    "plt.ylabel('Frequency')\n",
    "plt.show()"
   ]
  },
  {
   "cell_type": "code",
   "execution_count": 42,
   "metadata": {},
   "outputs": [],
   "source": [
    "# Calculating Clustering Coefficient for Weighted Network\n",
    "\n",
    "total_Ci = 0\n",
    "weighted_cc_dict = {}\n",
    "node_list = [item for item in range(0, num_nodes)]           # Finds the list of node numbers in the graph\n",
    "total_weight = np.sum(np_adj_matrix, axis = 1)\n",
    "final_weight = np.sum(total_weight)\n",
    "for node in node_list:\n",
    "    Li = 0\n",
    "    neighbours = get_neighbours(node)                                       # Get all neighbours of the node\n",
    "    neighbour_comb = list(combinations(neighbours[0].tolist(), 2))          # Finds all combinations of the neighbours\n",
    "    if len(neighbour_comb) != 0:                                            # If combinations exists\n",
    "        for neighbour_tuple in neighbour_comb:                              # Check for each combination(present as a tuple)\n",
    "            if np_adj_matrix[neighbour_tuple[0]][neighbour_tuple[1]] > 0:   # If there exists a link between the combination of nodes\n",
    "                Li += 1\n",
    "        Ci = Li/len(neighbour_comb)                                         # Ci is the Clustering coefficient of the node in focus\n",
    "        weighted_Ci = (total_weight[node]/final_weight) * Ci\n",
    "        if total_weight[node] in weighted_cc_dict.keys():\n",
    "            weighted_cc_dict[total_weight[node]] = weighted_cc_dict[total_weight[node]]+weighted_Ci\n",
    "        else:\n",
    "            weighted_cc_dict[total_weight[node]] = weighted_Ci\n"
   ]
  },
  {
   "cell_type": "code",
   "execution_count": 43,
   "metadata": {},
   "outputs": [
    {
     "data": {
      "image/png": "[encoded data removed]",
      "text/plain": [
       "<Figure size 1080x1080 with 1 Axes>"
      ]
     },
     "metadata": {
      "needs_background": "light"
     },
     "output_type": "display_data"
    }
   ],
   "source": [
    "weighted_cc_dict_list = list(weighted_cc_dict.items())\n",
    "\n",
    "scaled_degree = [(elem1, elem2) for elem1, elem2 in weighted_cc_dict_list]\n",
    "fig = plt.figure(figsize = (15,15))\n",
    "plt.scatter(*zip(*scaled_degree))\n",
    "plt.title('Clustering Coefficient Vs Degree')\n",
    "plt.xlabel('Degree')\n",
    "plt.ylabel('Clustering Coefficient')\n",
    "plt.show()"
   ]
  }
 ],
 "metadata": {
  "kernelspec": {
   "display_name": "Python 3",
   "language": "python",
   "name": "python3"
  },
  "language_info": {
   "codemirror_mode": {
    "name": "ipython",
    "version": 3
   },
   "file_extension": ".py",
   "mimetype": "text/x-python",
   "name": "python",
   "nbconvert_exporter": "python",
   "pygments_lexer": "ipython3",
   "version": "3.7.4"
  }
 },
 "nbformat": 4,
 "nbformat_minor": 2
}
